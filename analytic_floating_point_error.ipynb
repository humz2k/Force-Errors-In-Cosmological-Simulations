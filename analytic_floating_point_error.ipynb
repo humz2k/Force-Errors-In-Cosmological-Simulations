{
 "cells": [
  {
   "cell_type": "markdown",
   "metadata": {},
   "source": [
    "$$\n",
    "\\begin{align}\n",
    "\\text{A number can be represented in floating point notation as}&\\\\\n",
    "\n",
    "(1 + \\frac{a}{r}) \\times 2^{b} &\\text{, where $a,r \\in \\mathbb{Z}^{+}$, $a < r$ and $b \\in \\mathbb{Z}$}\\\\\n",
    "\n",
    "\\text{In this notation,} r &\\text{ is the maximum value of the significand,}\\\\\n",
    "\\text{and } b &\\text{ must be in the range of the exponent.}\\\\\n",
    "\n",
    "\\text{Let $x\\in \\mathbb{R}$, and the floating point representation of $x = x'$.}&\\\\\n",
    "\\end{align}\n",
    "$$"
   ]
  },
  {
   "cell_type": "code",
   "execution_count": null,
   "metadata": {},
   "outputs": [],
   "source": []
  },
  {
   "cell_type": "markdown",
   "metadata": {},
   "source": []
  }
 ],
 "metadata": {
  "kernelspec": {
   "display_name": "Python 3.9.12 ('base')",
   "language": "python",
   "name": "python3"
  },
  "language_info": {
   "codemirror_mode": {
    "name": "ipython",
    "version": 3
   },
   "file_extension": ".py",
   "mimetype": "text/x-python",
   "name": "python",
   "nbconvert_exporter": "python",
   "pygments_lexer": "ipython3",
   "version": "3.9.12"
  },
  "orig_nbformat": 4,
  "vscode": {
   "interpreter": {
    "hash": "a0bf772828b6ab65d157960488c11c37d249886ece3eec3a90dede32cc96d684"
   }
  }
 },
 "nbformat": 4,
 "nbformat_minor": 2
}
