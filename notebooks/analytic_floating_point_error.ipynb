{
 "cells": [
  {
   "cell_type": "markdown",
   "metadata": {},
   "source": [
    "$$\n",
    "\\begin{align}\n",
    "\\text{A number $x$ can be represented in floating point notation as}&\\\\\n",
    "\n",
    "x = (1 + \\frac{a}{r}) \\times 2^{b} \\text{, where $a,r \\in \\mathbb{Z}^{+}$, $a < r$ and $b \\in \\mathbb{Z}$}\\\\\n",
    "\n",
    "\\text{In this notation, } r \\text{ is the maximum value of the significand, }\n",
    "\\text{and } b \\text{ must be in the range of the exponent.}&\\\\\n",
    "\n",
    "\\end{align}\n",
    "$$"
   ]
  },
  {
   "cell_type": "markdown",
   "metadata": {},
   "source": [
    "$$\n",
    "\\begin{align}\n",
    "\n",
    "\\text{Let $x\\in \\mathbb{R}$, and the floating point representation of $x$ is $x'$.}&\\\\\n",
    "\n",
    "x &= x'(1+\\epsilon)\\\\\n",
    "x' &= (1 + \\frac{\\lfloor (2^{-\\lfloor \\log_{2}(x) \\rfloor}x - 1)r \\rfloor}{r}) \\times 2^{\\lfloor \\log_{2}(x) \\rfloor}\\\\\n",
    "x &= (1 + \\frac{\\lfloor (2^{-\\lfloor \\log_{2}(x) \\rfloor}x - 1)r \\rfloor}{r} + c) \\times 2^{\\lfloor \\log_{2}(x) \\rfloor} \\text{, where $\\frac{-1}{r} < c < \\frac{1}{r}$}\\\\\n",
    "\n",
    "x &= (1 + \\frac{\\lfloor (2^{-\\lfloor \\log_{2}(x) \\rfloor}x - 1)r \\rfloor}{r}) \\times 2^{\\lfloor \\log_{2}(x) \\rfloor} + c \\times 2^{\\lfloor \\log_{2}(x) \\rfloor}\\\\\n",
    "x'(1+\\epsilon) &= (1 + \\frac{\\lfloor (2^{-\\lfloor \\log_{2}(x) \\rfloor}x - 1)r \\rfloor}{r}) \\times 2^{\\lfloor \\log_{2}(x) \\rfloor} + c \\times 2^{\\lfloor \\log_{2}(x) \\rfloor}\\\\\n",
    "\n",
    "(1 + \\frac{\\lfloor (2^{-\\lfloor \\log_{2}(x) \\rfloor}x - 1)r \\rfloor}{r}) \\times 2^{\\lfloor \\log_{2}(x) \\rfloor}(1+\\epsilon) &= (1 + \\frac{\\lfloor (2^{-\\lfloor \\log_{2}(x) \\rfloor}x - 1)r \\rfloor}{r}) \\times 2^{\\lfloor \\log_{2}(x) \\rfloor} + c \\times 2^{\\lfloor \\log_{2}(x) \\rfloor}\\\\\n",
    "\n",
    "(1 + \\frac{\\lfloor (2^{-\\lfloor \\log_{2}(x) \\rfloor}x - 1)r \\rfloor}{r}) \\times 2^{\\lfloor \\log_{2}(x) \\rfloor}\\epsilon &= c \\times 2^{\\lfloor \\log_{2}(x) \\rfloor}\\\\\n",
    "\n",
    "(1 + \\frac{\\lfloor (2^{-\\lfloor \\log_{2}(x) \\rfloor}x - 1)r \\rfloor}{r})\\epsilon &= c\\\\\n",
    "\n",
    "\\epsilon &= \\frac{c}{1 + \\frac{\\lfloor (2^{-\\lfloor \\log_{2}(x) \\rfloor}x - 1)r \\rfloor}{r}}\\\\\n",
    "\n",
    "\\epsilon &= c\\frac{r}{r + \\lfloor (2^{-\\lfloor \\log_{2}(x) \\rfloor}x - 1)r \\rfloor}\\\\\n",
    "\n",
    "|\\epsilon| &< \\frac{1}{r + \\lfloor (2^{-\\lfloor \\log_{2}(x) \\rfloor}x - 1)r \\rfloor}\\\\\n",
    "\n",
    "\\text{So, for any $x$, } |\\epsilon| &\\lessapprox \\frac{1}{r}\\\\\n",
    "\n",
    "\\end{align}\n",
    "$$"
   ]
  },
  {
   "cell_type": "markdown",
   "metadata": {},
   "source": [
    "$$\n",
    "\\begin{align}\n",
    "\\text{Let $x'$ and $y'$ be floating point numbers, such that}&\\\\\n",
    "x' &= (1 + \\frac{a_x}{r}) \\times 2^{b_x}\\\\\n",
    "\\text{and } y' &= (1 + \\frac{a_y}{r}) \\times 2^{b_y}\\\\\n",
    "\\text{The true value of } x' + y' &= z\\\\\n",
    "&= (1 + \\frac{a_x}{r}) \\times 2^{b_x} + (1 + \\frac{a_y}{r}) \\times 2^{b_y}\\\\\n",
    "\\text{The floating point result of the calculation is } z' \\text{ where}&\\\\\n",
    "z &= z'(1+\\epsilon)\\\\\n",
    "z' &= \\frac{x'+y'}{1+\\epsilon}\\\\\n",
    "\\text{So, given $x$, $y \\in \\mathbb{R}$,}&\\\\\n",
    "x &= x'(1+\\epsilon)\\\\\n",
    "y &= y'(1+\\epsilon)\\\\\n",
    "x - y &= (x' - y')(1 + \\epsilon)\\\\\n",
    "\\text{Similarly,}&\\\\\n",
    "x' \\times y' &= (xy)(1+\\epsilon)^{3}\\\\\n",
    "\n",
    "\\end{align}\n",
    "$$"
   ]
  },
  {
   "cell_type": "markdown",
   "metadata": {},
   "source": []
  }
 ],
 "metadata": {
  "kernelspec": {
   "display_name": "Python 3.9.12 ('base')",
   "language": "python",
   "name": "python3"
  },
  "language_info": {
   "codemirror_mode": {
    "name": "ipython",
    "version": 3
   },
   "file_extension": ".py",
   "mimetype": "text/x-python",
   "name": "python",
   "nbconvert_exporter": "python",
   "pygments_lexer": "ipython3",
   "version": "3.9.12"
  },
  "orig_nbformat": 4,
  "vscode": {
   "interpreter": {
    "hash": "a0bf772828b6ab65d157960488c11c37d249886ece3eec3a90dede32cc96d684"
   }
  }
 },
 "nbformat": 4,
 "nbformat_minor": 2
}
