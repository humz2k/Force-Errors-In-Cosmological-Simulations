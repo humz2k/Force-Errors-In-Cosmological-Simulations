{
 "cells": [
  {
   "cell_type": "code",
   "execution_count": 2,
   "metadata": {},
   "outputs": [],
   "source": [
    "import sim\n",
    "import numpy as np\n",
    "import pandas as pd\n",
    "import matplotlib.pyplot as plt\n",
    "from tqdm import tqdm"
   ]
  },
  {
   "cell_type": "code",
   "execution_count": 30,
   "metadata": {},
   "outputs": [
    {
     "name": "stdout",
     "output_type": "stream",
     "text": [
      "2097152\n"
     ]
    },
    {
     "name": "stderr",
     "output_type": "stream",
     "text": [
      "100%|██████████| 11/11 [00:12<00:00,  1.14s/it]\n"
     ]
    }
   ],
   "source": [
    "ns = 2**np.arange(4,15) * 128\n",
    "\n",
    "print(max(ns))\n",
    "xs = []\n",
    "float2s = []\n",
    "float4s = []\n",
    "\n",
    "ray = sim.utils.ray(np.array([1,0,0]),2,25)\n",
    "\n",
    "float2 = np.zeros_like(ns)\n",
    "float4 = np.zeros_like(ns)\n",
    "\n",
    "repeats = 5\n",
    "\n",
    "idx = 0\n",
    "for n in tqdm(ns):\n",
    "    df = sim.halos.Sample.Uniform(n)\n",
    "\n",
    "    float2mean = 0\n",
    "    float4mean = 0\n",
    "\n",
    "    for i in range(repeats):\n",
    "        xs.append(n)\n",
    "        output,time = sim.static_solver.evaluate(ray,df,precision=\"f2-smcuda\")\n",
    "        float2s.append(time)\n",
    "        float2mean += time\n",
    "        output,time = sim.static_solver.evaluate(ray,df,precision=\"f4-smcuda\")\n",
    "        float4s.append(time)\n",
    "        float4mean += time\n",
    "\n",
    "    float2[idx] = float2mean/repeats\n",
    "    float4[idx] = float4mean/repeats\n",
    "\n",
    "    #output,time = sim.static_solver.evaluate(ray,df,precision=\"f8\")\n",
    "    #float8[idx] = time\n",
    "    \n",
    "    idx += 1"
   ]
  },
  {
   "cell_type": "code",
   "execution_count": 9,
   "metadata": {},
   "outputs": [],
   "source": [
    "def plot_pretty(dpi=150,fontsize=15):\n",
    "    plt.rcParams['figure.dpi']= dpi\n",
    "    plt.rc(\"savefig\", dpi=dpi)\n",
    "    plt.rc('font', size=fontsize)\n",
    "    plt.rc('xtick', direction='in')\n",
    "    plt.rc('ytick', direction='in')\n",
    "    plt.rc('xtick.major', pad=5)\n",
    "    plt.rc('xtick.minor', pad=5)\n",
    "    plt.rc('ytick.major', pad=5)\n",
    "    plt.rc('ytick.minor', pad=5)\n",
    "    plt.rc('lines', dotted_pattern = [2., 2.])\n",
    "    plt.rc('legend',fontsize=5)\n",
    "    plt.rcParams['figure.figsize'] = [5, 4]\n",
    "\n",
    "plot_pretty()"
   ]
  },
  {
   "cell_type": "code",
   "execution_count": 34,
   "metadata": {},
   "outputs": [
    {
     "data": {
      "image/png": "[encoded data removed]",
      "text/plain": [
       "<Figure size 750x600 with 1 Axes>"
      ]
     },
     "metadata": {
      "needs_background": "light"
     },
     "output_type": "display_data"
    }
   ],
   "source": [
    "fig = plt.figure()\n",
    "ax = fig.add_subplot(111)\n",
    "\n",
    "ax.scatter(xs,100*((np.array(float4s) - np.array(float2s))/np.array(float4s)),label=\"half\",s=5)\n",
    "#ax.scatter(xs,np.array(float4s))\n",
    "#ax.plot(ns,100*((float4 -float2)/float4),label=\"double\")\n",
    "ax.set_xscale('log')\n",
    "#ax.set_yscale('log')\n",
    "#ax.yaxis.set_major_locator(plt.LogLocator(numticks=7,subs=\"auto\"))\n",
    "ax.set_ylabel(r\"$\\frac{Time_{f4} - Time_{f2}}{Time_{f4}} * 100$\")\n",
    "ax.set_xlabel(\"N\")\n",
    "ax.set_title(\"Float2 vs Float4\")\n",
    "plt.tight_layout()\n",
    "plt.savefig(\"plots/general/fixed_execution_time.jpg\")\n",
    "plt.show()"
   ]
  },
  {
   "cell_type": "code",
   "execution_count": null,
   "metadata": {},
   "outputs": [],
   "source": [
    "fig = plt.figure()\n",
    "ax = fig.add_subplot(111)\n",
    "\n",
    "ax.plot(ns,float2,label=\"half\")\n",
    "ax.plot(ns,float4,label=\"single\")\n",
    "ax.plot(ns,float8,label=\"double\")\n",
    "ax.set_xscale('log')\n",
    "ax.set_yscale('log')\n",
    "#ax.yaxis.set_major_locator(plt.LogLocator(numticks=7,subs=\"auto\"))\n",
    "ax.set_ylabel(r\"Time ($\\mu s$)\")\n",
    "ax.set_xlabel(\"N\")\n",
    "ax.legend()\n",
    "ax.set_title(\"Execution Time\")\n",
    "plt.tight_layout()\n",
    "#plt.savefig(\"execution_time.jpg\")\n",
    "plt.show()"
   ]
  },
  {
   "cell_type": "code",
   "execution_count": null,
   "metadata": {},
   "outputs": [],
   "source": []
  }
 ],
 "metadata": {
  "kernelspec": {
   "display_name": "Python 3.9.12 ('base')",
   "language": "python",
   "name": "python3"
  },
  "language_info": {
   "codemirror_mode": {
    "name": "ipython",
    "version": 3
   },
   "file_extension": ".py",
   "mimetype": "text/x-python",
   "name": "python",
   "nbconvert_exporter": "python",
   "pygments_lexer": "ipython3",
   "version": "3.9.12"
  },
  "orig_nbformat": 4,
  "vscode": {
   "interpreter": {
    "hash": "a0bf772828b6ab65d157960488c11c37d249886ece3eec3a90dede32cc96d684"
   }
  }
 },
 "nbformat": 4,
 "nbformat_minor": 2
}
