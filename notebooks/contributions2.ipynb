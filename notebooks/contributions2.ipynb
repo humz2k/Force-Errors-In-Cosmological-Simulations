{
 "cells": [
  {
   "cell_type": "code",
   "execution_count": 102,
   "metadata": {},
   "outputs": [
    {
     "name": "stdout",
     "output_type": "stream",
     "text": [
      "-0.11307818986389913\n"
     ]
    }
   ],
   "source": [
    "import numpy as np\n",
    "import matplotlib.pyplot as plt\n",
    "import scipy.integrate\n",
    "import pandas as pd\n",
    "import sim\n",
    "sim.pretty_plots.plot_pretty()\n",
    "\n",
    "def rho(r,c,p0):\n",
    "    if r > 3:\n",
    "        return 0\n",
    "    if ((r*c)*(1+(r*c))**2) == 0:\n",
    "        return 0\n",
    "    return p0/((r*c)*(1+(r*c))**2)\n",
    "\n",
    "def radius(alpha,beta,particle,D):\n",
    "    return np.sqrt((particle[0] + D * np.cos(beta) * np.sin(alpha))**2 + (particle[1] + D * np.sin(beta) * np.sin(alpha))**2 + (particle[2] + D * np.cos(alpha))**2)\n",
    "\n",
    "def rho_sphere(alpha,beta,particle,D,c,Mvir=1):\n",
    "    p0 = Mvir / 4 * np.pi * ((1/c)**3) * (np.log(1+c) - (c/(1+c)))\n",
    "    if D == 0:\n",
    "        return 0\n",
    "    return rho(radius(alpha,beta,particle,D),c,p0)\n",
    "\n",
    "def int_rho_sphere(particle,D,c,Mvir=1):\n",
    "    return scipy.integrate.dblquad(rho_sphere,0,2 * np.pi,0,2*np.pi,(particle,D,5,Mvir))[0]\n",
    "\n",
    "def phi_sphere(D,particle,c,G=1,Mvir=1):\n",
    "    return -G/D * scipy.integrate.dblquad(rho_sphere,0,2 * np.pi,0,2*np.pi,(particle,D,1,5))[0]\n",
    "\n",
    "particle = np.array([1,0,0])\n",
    "particle = particle/np.linalg.norm(particle)\n",
    "\n",
    "\n",
    "print(phi_sphere(3,particle,5))"
   ]
  },
  {
   "cell_type": "markdown",
   "metadata": {},
   "source": [
    "Consider an NFW halo with concentration $c$, and a particle $i$ in the halo with coordinates $\\begin{bmatrix} x_i\\\\y_i\\\\z_i\\\\ \\end{bmatrix}$ such that the radius of $i = \\sqrt{x_i^2 + y_i^2 + z_i^2} = r_i$.\n",
    "\n",
    "Let $p$ be a point on a sphere of radius $D$ around $i$.\n",
    "\n",
    "$$\n",
    "\\begin{align*}\n",
    "p_{\\alpha,\\beta} &= \\begin{bmatrix} x_i\\\\ y_i\\\\ z_i\\\\ \\end{bmatrix} + D\\begin{bmatrix} \\cos(\\beta_j)\\sin(\\alpha_j)\\\\ \\sin(\\beta_j)\\sin(\\alpha_j)\\\\ \\cos(\\alpha_j)\\\\ \\end{bmatrix}\\\\\n",
    "\n",
    "\\text{The radius }r_{p_{\\alpha,\\beta}} &= \\sqrt{(x_i + D\\cos(\\beta_j)\\sin(\\alpha_j))^2 + (y_i + D\\sin(\\beta_j)\\sin(\\alpha_j))^2 + (z_i + D\\cos(\\alpha_j))^2}\\\\\n",
    "\n",
    "\\text{For NFW halo }\\rho(r) &= \\frac{\\rho_0}{cr(1 + cr)^2}\\\\\n",
    "\n",
    "\\sum{\\phi} \\text{ on $i$ from $D$, } \\phi_{{d},i} &= \\int_0^{2\\pi} \\int_0^{2\\pi} \\frac{-G\\rho(r_{\\alpha,\\beta})}{D} d\\beta \\; d\\alpha\\\\\n",
    "\n",
    "&= \\frac{-G}{D} \\int_0^{2\\pi} \\int_0^{2\\pi} \\rho(r_{\\alpha,\\beta}) d\\beta \\; d\\alpha\n",
    "\n",
    "\\end{align*}\n",
    "\n",
    "$$"
   ]
  },
  {
   "cell_type": "code",
   "execution_count": 89,
   "metadata": {},
   "outputs": [
    {
     "data": {
      "text/plain": [
       "array([-0.00108472])"
      ]
     },
     "execution_count": 89,
     "metadata": {},
     "output_type": "execute_result"
    }
   ],
   "source": [
    "particledf = pd.DataFrame(particle.reshape((1,) + particle.shape),columns=[\"x\",\"y\",\"z\"])\n",
    "sim.halos.Analytic.NFW(particledf,c=5,Mvir=1)"
   ]
  },
  {
   "cell_type": "code",
   "execution_count": null,
   "metadata": {},
   "outputs": [],
   "source": []
  }
 ],
 "metadata": {
  "kernelspec": {
   "display_name": "Python 3.9.12 ('base')",
   "language": "python",
   "name": "python3"
  },
  "language_info": {
   "codemirror_mode": {
    "name": "ipython",
    "version": 3
   },
   "file_extension": ".py",
   "mimetype": "text/x-python",
   "name": "python",
   "nbconvert_exporter": "python",
   "pygments_lexer": "ipython3",
   "version": "3.9.12"
  },
  "orig_nbformat": 4,
  "vscode": {
   "interpreter": {
    "hash": "a0bf772828b6ab65d157960488c11c37d249886ece3eec3a90dede32cc96d684"
   }
  }
 },
 "nbformat": 4,
 "nbformat_minor": 2
}
