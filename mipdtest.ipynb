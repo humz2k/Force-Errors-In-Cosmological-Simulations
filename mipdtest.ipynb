{
 "cells": [
  {
   "cell_type": "code",
   "execution_count": 64,
   "metadata": {},
   "outputs": [],
   "source": [
    "import sim\n",
    "import numpy as np\n",
    "import matplotlib.pyplot as plt\n",
    "from scipy import spatial,stats\n",
    "from tqdm import tqdm"
   ]
  },
  {
   "cell_type": "code",
   "execution_count": 74,
   "metadata": {},
   "outputs": [],
   "source": [
    "def get_mipd(df,bins=50):\n",
    "    rs = sim.utils.points2radius(df)\n",
    "    counts,bins = np.histogram(rs,bins=bins)\n",
    "    vols = ((4/3) * np.pi * (bins[1:])**2) - ((4/3) * np.pi * (bins[:-1])**2)\n",
    "    densities = vols/counts\n",
    "    densities[densities == np.inf] = 0\n",
    "    return np.sum(densities * counts)/np.sum(counts)\n",
    "\n",
    "def mipd(n,bins=50,Rs=1):\n",
    "    df = sim.halos.Sample.NFW(n,Rs=Rs)\n",
    "    mipd = get_mipd(df,bins)\n",
    "    return mipd\n",
    "\n",
    "def calc_and_fit(Rs,bins=50):\n",
    "    ns = 10 ** np.arange(3,7)\n",
    "    ys = []\n",
    "    xs = []\n",
    "    for n in tqdm(ns):\n",
    "        for i in range(3):\n",
    "            xs.append(n)\n",
    "            ys.append(mipd(n,bins=bins,Rs=Rs))\n",
    "    slope, intercept, r_value, p_value, std_err = stats.linregress(np.log(np.array(xs)),np.log(np.array(ys)))\n",
    "    return slope,intercept\n",
    "    "
   ]
  },
  {
   "cell_type": "code",
   "execution_count": 85,
   "metadata": {},
   "outputs": [
    {
     "name": "stderr",
     "output_type": "stream",
     "text": [
      "100%|██████████| 4/4 [00:18<00:00,  4.73s/it]\n",
      "100%|██████████| 4/4 [00:17<00:00,  4.37s/it]\n",
      "100%|██████████| 4/4 [00:17<00:00,  4.30s/it]\n",
      "100%|██████████| 4/4 [00:17<00:00,  4.42s/it]\n",
      "100%|██████████| 4/4 [00:17<00:00,  4.37s/it]\n",
      "100%|██████████| 4/4 [00:17<00:00,  4.30s/it]\n"
     ]
    }
   ],
   "source": [
    "Rss = [1,2,5,10,20,50]\n",
    "intercepts = []\n",
    "slopes = []\n",
    "for Rs in Rss:\n",
    "    slope,intercept = calc_and_fit(Rs)\n",
    "    slopes.append(slope)\n",
    "    intercepts.append(intercept)"
   ]
  },
  {
   "cell_type": "code",
   "execution_count": 84,
   "metadata": {},
   "outputs": [
    {
     "data": {
      "image/png": "[encoded data removed]",
      "text/plain": [
       "<Figure size 432x288 with 1 Axes>"
      ]
     },
     "metadata": {
      "needs_background": "light"
     },
     "output_type": "display_data"
    }
   ],
   "source": [
    "plt.scatter(Rss,intercepts)\n",
    "plt.show()"
   ]
  },
  {
   "cell_type": "code",
   "execution_count": 80,
   "metadata": {},
   "outputs": [
    {
     "data": {
      "text/plain": [
       "<matplotlib.collections.PathCollection at 0x7f26f6a412b0>"
      ]
     },
     "execution_count": 80,
     "metadata": {},
     "output_type": "execute_result"
    },
    {
     "data": {
      "image/png": "[encoded data removed]",
      "text/plain": [
       "<Figure size 432x288 with 1 Axes>"
      ]
     },
     "metadata": {
      "needs_background": "light"
     },
     "output_type": "display_data"
    }
   ],
   "source": [
    "plt.scatter(Rss,slopes)"
   ]
  },
  {
   "cell_type": "code",
   "execution_count": 66,
   "metadata": {},
   "outputs": [
    {
     "name": "stderr",
     "output_type": "stream",
     "text": [
      "100%|██████████| 4/4 [00:17<00:00,  4.42s/it]\n"
     ]
    }
   ],
   "source": [
    "ns = 10 ** np.arange(3,7)\n",
    "ys = []\n",
    "xs = []\n",
    "for n in tqdm(ns):\n",
    "    for i in range(3):\n",
    "        xs.append(n)\n",
    "        ys.append(mipd(n,bins=50))"
   ]
  },
  {
   "cell_type": "code",
   "execution_count": 67,
   "metadata": {},
   "outputs": [
    {
     "name": "stdout",
     "output_type": "stream",
     "text": [
      "-0.9989356540733827 10.629640145256275\n"
     ]
    }
   ],
   "source": [
    "slope, intercept, r_value, p_value, std_err = stats.linregress(np.log(np.array(xs)),np.log(np.array(ys)))\n",
    "print(slope,intercept)\n",
    "def logy(logx,slope = slope, intercept = intercept):\n",
    "    return logx * slope + intercept\n",
    "\n",
    "def y(x):\n",
    "    return np.exp(logy(np.log(x)))"
   ]
  },
  {
   "cell_type": "code",
   "execution_count": 73,
   "metadata": {},
   "outputs": [
    {
     "name": "stdout",
     "output_type": "stream",
     "text": [
      "415.4538152136986\n"
     ]
    }
   ],
   "source": [
    "print(y(100))"
   ]
  },
  {
   "cell_type": "code",
   "execution_count": 62,
   "metadata": {},
   "outputs": [
    {
     "data": {
      "image/png": "[encoded data removed]",
      "text/plain": [
       "<Figure size 432x288 with 1 Axes>"
      ]
     },
     "metadata": {
      "needs_background": "light"
     },
     "output_type": "display_data"
    }
   ],
   "source": [
    "fit_ys = []\n",
    "fit_xs = np.linspace(np.min(xs),np.max(xs),1000)\n",
    "for x in fit_xs:\n",
    "    fit_ys.append(y(x))\n",
    "\n",
    "plt.plot(fit_xs,fit_ys)\n",
    "plt.scatter(xs,ys)\n",
    "plt.xscale('log')\n",
    "plt.yscale('log')\n",
    "plt.show()"
   ]
  },
  {
   "cell_type": "code",
   "execution_count": 58,
   "metadata": {},
   "outputs": [],
   "source": [
    "def mipd_uniform(n,r=1):\n",
    "    return ((4/3) * np.pi * r**3)/n"
   ]
  },
  {
   "cell_type": "code",
   "execution_count": 59,
   "metadata": {},
   "outputs": [
    {
     "name": "stderr",
     "output_type": "stream",
     "text": [
      "100%|██████████| 4/4 [00:00<00:00, 9054.08it/s]\n"
     ]
    }
   ],
   "source": [
    "ns2 = 10 ** np.arange(3,7)\n",
    "ys2 = []\n",
    "xs2 = []\n",
    "for n in tqdm(ns2):\n",
    "    for i in range(3):\n",
    "        xs2.append(n)\n",
    "        ys2.append(mipd_uniform(n))"
   ]
  },
  {
   "cell_type": "code",
   "execution_count": 61,
   "metadata": {},
   "outputs": [
    {
     "data": {
      "image/png": "[encoded data removed]",
      "text/plain": [
       "<Figure size 432x288 with 1 Axes>"
      ]
     },
     "metadata": {
      "needs_background": "light"
     },
     "output_type": "display_data"
    }
   ],
   "source": [
    "plt.scatter(xs2,ys2)\n",
    "plt.xscale('log')\n",
    "plt.yscale('log')\n",
    "plt.show()"
   ]
  },
  {
   "cell_type": "code",
   "execution_count": 86,
   "metadata": {},
   "outputs": [],
   "source": [
    "def density_integral(min=1e-3,max=200,Rs=1):\n",
    "    def integral(x):\n",
    "        return Rs * ( (Rs/(Rs+x)) - np.log(Rs + x) + np.log(x))\n",
    "    \n",
    "    return integral(max) - integral(min)"
   ]
  },
  {
   "cell_type": "code",
   "execution_count": 89,
   "metadata": {},
   "outputs": [],
   "source": [
    "def inverse_density(r,Rs=1):\n",
    "    def density(x):\n",
    "        return 1/( (x/Rs) * (1 + (x/Rs))**2 )\n",
    "    print(density(Rs/2))"
   ]
  },
  {
   "cell_type": "code",
   "execution_count": 88,
   "metadata": {},
   "outputs": [
    {
     "data": {
      "text/plain": [
       "0.0005909741363181291"
      ]
     },
     "execution_count": 88,
     "metadata": {},
     "output_type": "execute_result"
    }
   ],
   "source": [
    "(density_integral(Rs=1)/10000)"
   ]
  },
  {
   "cell_type": "code",
   "execution_count": null,
   "metadata": {},
   "outputs": [],
   "source": []
  }
 ],
 "metadata": {
  "kernelspec": {
   "display_name": "Python 3.9.12 ('base')",
   "language": "python",
   "name": "python3"
  },
  "language_info": {
   "codemirror_mode": {
    "name": "ipython",
    "version": 3
   },
   "file_extension": ".py",
   "mimetype": "text/x-python",
   "name": "python",
   "nbconvert_exporter": "python",
   "pygments_lexer": "ipython3",
   "version": "3.9.12"
  },
  "orig_nbformat": 4,
  "vscode": {
   "interpreter": {
    "hash": "a0bf772828b6ab65d157960488c11c37d249886ece3eec3a90dede32cc96d684"
   }
  }
 },
 "nbformat": 4,
 "nbformat_minor": 2
}
