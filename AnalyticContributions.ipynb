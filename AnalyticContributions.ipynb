{
 "cells": [
  {
   "cell_type": "markdown",
   "metadata": {},
   "source": [
    "$$\n",
    "\\begin{align*}\n",
    "x(t) &= [\\sqrt{D^2 - z^2}]\\cos(t) + x_1\\\\\n",
    "y(t) &= [\\sqrt{D^2 - z^2}]\\sin(t) + y_1\\\\\n",
    "\n",
    "r(t) &= \\sqrt{[D^2 - z^2]\\cos^2(t) + x_1^2 + x_1[\\sqrt{D^2 - z^2}]\\cos(t) + [D^2 - z^2]\\sin^2(t) + y_1^2 + y_1[\\sqrt{D^2 - z^2}]\\sin(t) + z^2}\\\\\n",
    "&= \\sqrt{[D^2 - z^2] + x_1^2 + y_1^2 + z^2 + [\\sqrt{D^2 - z^2}](x_1\\cos(t)+y_1\\sin(t))}\\\\\n",
    "&= \\sqrt{D^2 + x_1^2 + y_1^2 + [\\sqrt{D^2 - z^2}](x_1\\cos(t)+y_1\\sin(t))}\\\\\n",
    "\n",
    "\\frac{dx}{dt} &= -[\\sqrt{D^2 - z^2}]\\sin(t)\\\\\n",
    "\\frac{dy}{dt} &= [\\sqrt{D^2 - z^2}]\\cos(t)\\\\\n",
    "\n",
    "{\\begin{bmatrix} \\frac{dx}{dt} \\end{bmatrix}}^2 &= (D^2 - z^2)\\sin^2(t)\\\\\n",
    "{\\begin{bmatrix} \\frac{dy}{dt} \\end{bmatrix}}^2 &= (D^2 - z^2)\\cos^2(t)\\\\\n",
    "\n",
    "{\\begin{bmatrix} \\frac{dx}{dt} \\end{bmatrix}}^2 + {\\begin{bmatrix} \\frac{dy}{dt} \\end{bmatrix}}^2 &= (D^2 - z^2)\\sin^2(t) + (D^2 - z^2)\\cos^2(t)\\\\\n",
    "&= (D^2 - z^2)\\\\\n",
    "\n",
    "\\text{We have a density $\\rho$, such that } \\rho &= \\rho(r),\\\\\n",
    "\\text{The mass around the circle } &= \\int_0^{2\\pi} \\rho(r(t))\\sqrt{{\\begin{bmatrix} \\frac{dx}{dt} \\end{bmatrix}}^2 + {\\begin{bmatrix} \\frac{dy}{dt} \\end{bmatrix}}^2} \\; dt\\\\\n",
    "\\text{The mass around a sphere of radius D, } M(D) &= \\int_{-D}^{D} \\frac{D}{\\sqrt{D^2 - z^2}} \\int_0^{2\\pi} \\rho(r(t))\\sqrt{{\\begin{bmatrix} \\frac{dx}{dt} \\end{bmatrix}}^2 + {\\begin{bmatrix} \\frac{dy}{dt} \\end{bmatrix}}^2} \\; dt \\: dz \\\\\n",
    "\n",
    "&= \\int_{-D}^{D} \\frac{D}{\\sqrt{D^2 - z^2}} \\int_0^{2\\pi} \\rho(r(t))\\sqrt{D^2 - z^2} \\; dt \\: dz \\\\\n",
    "&= \\int_{-D}^{D} \\frac{D\\sqrt{D^2 - z^2}}{\\sqrt{D^2 - z^2}} \\int_0^{2\\pi} \\rho(r(t)) \\; dt \\: dz \\\\\n",
    "&= \\int_{-D}^{D} D \\int_0^{2\\pi} \\rho(r(t)) \\; dt \\: dz \\\\\n",
    "\\end{align*}\n",
    "$$"
   ]
  },
  {
   "cell_type": "markdown",
   "metadata": {},
   "source": [
    "$$\n",
    "\\begin{align*}\n",
    "\\text{For } \\rho(r) &= c\\text{, }\\\\\n",
    "\n",
    "M(D) &= \\int_{-D}^{D} D \\int_0^{2\\pi} c \\; dt \\: dz \\\\\n",
    "&= \\int_{-D}^{D} 2 \\pi c D \\: dz \\\\\n",
    "&= 2 \\pi c D^2 + 2 \\pi c D^2\\\\\n",
    "&= 4 \\pi c D^2\\\\\n",
    "\n",
    "\\phi(D) &= \\frac{G * 4 \\pi c D^2}{D}\\\\\n",
    "&= 4 \\pi c D G\\\\\n",
    "\\end{align*}\n",
    "$$"
   ]
  },
  {
   "cell_type": "code",
   "execution_count": null,
   "metadata": {},
   "outputs": [],
   "source": [
    "import sim\n",
    "import numpy as np\n",
    "import matplotlib.pyplot as plt"
   ]
  }
 ],
 "metadata": {
  "language_info": {
   "name": "python"
  },
  "orig_nbformat": 4
 },
 "nbformat": 4,
 "nbformat_minor": 2
}
